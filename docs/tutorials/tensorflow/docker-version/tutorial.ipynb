{
 "cells": [
  {
   "cell_type": "markdown",
   "metadata": {},
   "source": [
    "# SODA Toolchain\n",
    "\n",
    "![tutorial-flow](imgs/flow-diagram.png)"
   ]
  },
  {
   "cell_type": "markdown",
   "metadata": {},
   "source": [
    "# High-Level Application Input (TensorFlow)"
   ]
  },
  {
   "cell_type": "markdown",
   "metadata": {},
   "source": [
    "### Build a model in TensorFlow (Step 1)"
   ]
  },
  {
   "cell_type": "code",
   "execution_count": null,
   "metadata": {},
   "outputs": [],
   "source": [
    "import os\n",
    "import tensorflow as tf\n",
    "from tensorflow import keras\n",
    "from tensorflow.python.framework.convert_to_constants import convert_variables_to_constants_v2\n",
    "import numpy as np\n",
    "tf.random.set_seed(seed=0)\n",
    "print(tf.__version__)\n",
    "\n",
    "in1 = keras.layers.Input(shape=(32,32,1))\n",
    "tmp = keras.layers.Conv2D(filters=1, kernel_size=(5,5),\n",
    "                          input_shape=(32,32),\n",
    "                          padding='same', \n",
    "                          strides=(2, 2),\n",
    "                          activation='relu', \n",
    "                          use_bias=True)(in1)\n",
    "tmp = keras.layers.Flatten()(tmp)\n",
    "tmp = keras.layers.Dense(units=8, activation='relu')(tmp)\n",
    "tmp = keras.layers.Dense(units=4, activation='relu')(tmp)\n",
    "out = keras.layers.Dense(units=2, activation='softmax')(tmp)\n",
    "model = keras.models.Model(inputs=[in1], outputs=out)\n",
    "\n",
    "# Compile model with optimizer\n",
    "model.compile(optimizer=\"adam\",\n",
    "                loss=\"sparse_categorical_crossentropy\",\n",
    "                metrics=[\"accuracy\"])"
   ]
  },
  {
   "cell_type": "markdown",
   "metadata": {},
   "source": [
    "### Convert model to protobuf"
   ]
  },
  {
   "cell_type": "code",
   "execution_count": null,
   "metadata": {},
   "outputs": [],
   "source": [
    "!mkdir -p output"
   ]
  },
  {
   "cell_type": "code",
   "execution_count": null,
   "metadata": {},
   "outputs": [],
   "source": [
    "save_path = os.path.join(os.getcwd(), \"model/simple/\")\n",
    "\n",
    "# Save model to SavedModel format\n",
    "tf.saved_model.save(model, save_path)\n",
    "\n",
    "# Convert Keras model to ConcreteFunction\n",
    "full_model = tf.function(lambda x: model(x))\n",
    "full_model = full_model.get_concrete_function(\n",
    "    x=[\n",
    "        tf.TensorSpec(model.inputs[0].shape, model.inputs[0].dtype, name='x1')\n",
    "    ])\n",
    "\n",
    "# Get frozen ConcreteFunction\n",
    "frozen_func = convert_variables_to_constants_v2(full_model)\n",
    "\n",
    "# Save frozen graph from frozen ConcreteFunction to hard drive\n",
    "tf.io.write_graph(graph_or_graph_def=frozen_func.graph,\n",
    "                    logdir=os.getcwd(),\n",
    "                    name=\"output/frozen_graph.pbtxt\",\n",
    "                    as_text=True)\n"
   ]
  },
  {
   "cell_type": "markdown",
   "metadata": {},
   "source": [
    "![tutorial-flow](imgs/flow-diagram.png)"
   ]
  },
  {
   "cell_type": "markdown",
   "metadata": {},
   "source": [
    "### Transform protobuf into MLIR (Step 2)\n",
    "\n",
    "\n"
   ]
  },
  {
   "cell_type": "code",
   "execution_count": null,
   "metadata": {},
   "outputs": [],
   "source": [
    "!scripts/protobuf-to-tosa.sh output/frozen_graph.pbtxt output/tosa.mlir"
   ]
  },
  {
   "cell_type": "markdown",
   "metadata": {},
   "source": [
    "### Lower MLIR to Linalg on Buffers (Step 3)"
   ]
  },
  {
   "cell_type": "code",
   "execution_count": null,
   "metadata": {},
   "outputs": [],
   "source": [
    "!scripts/tosa-to-linalg.sh output/tosa.mlir output/linalg-buffers.mlir"
   ]
  },
  {
   "cell_type": "markdown",
   "metadata": {},
   "source": [
    "![tutorial-flow](imgs/flow-diagram.png)"
   ]
  },
  {
   "cell_type": "markdown",
   "metadata": {},
   "source": [
    "# SODA-OPT: HW/SW Partitioning and Optimizer (Step 4)"
   ]
  },
  {
   "cell_type": "markdown",
   "metadata": {},
   "source": [
    "## How to use soda.launch?\n",
    "\n",
    "### Automatic selection of custom accelerator region\n",
    "\n",
    "Using the pass: `-convert-<abstraction_name>-<operation_name>-to-soda`\n",
    "\n",
    "Such as: `-convert-linalg-generic-to-soda`"
   ]
  },
  {
   "cell_type": "markdown",
   "metadata": {},
   "source": [
    "### Manual selection of custom accelerator region"
   ]
  },
  {
   "cell_type": "markdown",
   "metadata": {},
   "source": [
    "Adding the following lines around any code that will become the accelerator:\n",
    "\n",
    "```mlir\n",
    "soda.launch {\n",
    "  // ...\n",
    "  // Code to be transformed into an accelerator\n",
    "  // ...\n",
    "  soda.terminator\n",
    "}\n",
    "```\n",
    "\n",
    "Run next cell and edit [file](output/01searched-edited.mlir)."
   ]
  },
  {
   "cell_type": "code",
   "execution_count": null,
   "metadata": {},
   "outputs": [],
   "source": [
    "!cp output/linalg-buffers.mlir output/01searched-edited.mlir\n",
    "\n",
    "# Perform manual edit!"
   ]
  },
  {
   "cell_type": "markdown",
   "metadata": {},
   "source": [
    "> **⚠️ <span style=\"color:red;\">IMPORTANT:</span> Please modify the file as described below.**"
   ]
  },
  {
   "cell_type": "markdown",
   "metadata": {},
   "source": [
    "Edit the [file](output/01searched-edited.mlir).\n",
    "\n",
    "Modify line 55 to the following lines:\n",
    "\n",
    "```mlir\n",
    "    soda.launch {\n",
    "      linalg.batch_matmul ins(%expand_shape_8, %1 : memref<1x4x8xf32>, memref<1x8x4xf32>) outs(%alloc_9 : memref<1x4x4xf32>)\n",
    "      soda.terminator\n",
    "    }\n",
    "```"
   ]
  },
  {
   "cell_type": "markdown",
   "metadata": {},
   "source": [
    "## Optimization pipeline\n",
    "\n",
    "![optimizations](imgs/optimization-table.png)\n",
    "\n",
    "### Kernel without SODA-OPT optimizations (Baseline)"
   ]
  },
  {
   "cell_type": "code",
   "execution_count": null,
   "metadata": {},
   "outputs": [],
   "source": [
    "%%bash\n",
    "(\n",
    "  CURRENT_DIR=\"$( cd \"$( dirname \"${BASH_SOURCE[0]}\" )\" &> /dev/null && pwd )\"\n",
    "  source $CURRENT_DIR/scripts/check_docker.sh\n",
    "\n",
    "  $DOCKER_RUN \\\n",
    "  soda-opt \\\n",
    "    -soda-outline-bambu-code \\\n",
    "    -soda-extract-arguments-to-c-testbench=using-bare-ptr \\\n",
    "    -soda-generate-bambu-accelcode=no-aa \\\n",
    "    -lower-all-to-llvm=use-bare-ptr-memref-call-conv \\\n",
    "    -mlir-print-ir-after-all \\\n",
    "    output/01searched-edited.mlir \\\n",
    "    -o output/04baseline.mlir \\\n",
    "    2>&1 | cat > output/05intermediate-baseline.mlir\n",
    "\n",
    "  $DOCKER_RUN \\\n",
    "  mlir-translate \\\n",
    "    --mlir-to-llvmir \\\n",
    "    output/04baseline.mlir \\\n",
    "    -o output/05baseline.ll\n",
    ")"
   ]
  },
  {
   "cell_type": "markdown",
   "metadata": {},
   "source": [
    "Visualize [intermediate file](output/05intermediate-baseline.mlir)"
   ]
  },
  {
   "cell_type": "markdown",
   "metadata": {},
   "source": [
    "### Kernel with SODA-OPT optimizations"
   ]
  },
  {
   "cell_type": "code",
   "execution_count": null,
   "metadata": {},
   "outputs": [],
   "source": [
    "%%bash\n",
    "(\n",
    "    CURRENT_DIR=\"$( cd \"$( dirname \"${BASH_SOURCE[0]}\" )\" &> /dev/null && pwd )\"\n",
    "source $CURRENT_DIR/scripts/check_docker.sh\n",
    "\n",
    "  $DOCKER_RUN \\\n",
    "  soda-opt \\\n",
    "    -soda-outline-bambu-code \\\n",
    "    -soda-extract-arguments-to-c-testbench=using-bare-ptr \\\n",
    "    -soda-generate-bambu-accelcode \\\n",
    "    -soda-opt-pipeline-for-bambu=use-bare-ptr-memref-call-conv \\\n",
    "    -mlir-print-ir-after-all \\\n",
    "    output/01searched-edited.mlir \\\n",
    "    -o output/04optimized.mlir \\\n",
    "    2>&1 | cat > output/05intermediate-optimized.mlir\n",
    "\n",
    "  $DOCKER_RUN \\\n",
    "  mlir-translate \\\n",
    "    --mlir-to-llvmir \\\n",
    "    output/04optimized.mlir \\\n",
    "    -o output/05optimized.ll\n",
    ")\n"
   ]
  },
  {
   "cell_type": "markdown",
   "metadata": {},
   "source": [
    "Visualize [intermediate file](output/05intermediate-optimized.mlir)"
   ]
  },
  {
   "cell_type": "markdown",
   "metadata": {},
   "source": [
    "![tutorial-flow](imgs/flow-diagram.png)"
   ]
  },
  {
   "cell_type": "markdown",
   "metadata": {},
   "source": [
    "# Bambu: Synthesizing the Outlined Kernel (Step 5)"
   ]
  },
  {
   "cell_type": "markdown",
   "metadata": {},
   "source": [
    "The following configurations are passed to our backend HLS tool:\n",
    "\n",
    "* Target: ASIC generation using the Nangate cell library with the FreePDK 45nm kit\n",
    "* Memory technology: SRAM\n",
    "* Number of memory channels: 2\n",
    "  * Supports 2 parallel reads and 2 parallel writes\n",
    "* Target frequency: 200MHz (5ns period)\n",
    "* Using bambu's floating-point operation support\n",
    "\n",
    "You can change parameters passed to bambu in [scripts/run-bambu.sh](scripts/run-bambu.sh)"
   ]
  },
  {
   "cell_type": "markdown",
   "metadata": {},
   "source": [
    "### Baseline kernel"
   ]
  },
  {
   "cell_type": "code",
   "execution_count": null,
   "metadata": {},
   "outputs": [],
   "source": [
    "! scripts/run-bambu.sh baseline"
   ]
  },
  {
   "cell_type": "code",
   "execution_count": null,
   "metadata": {},
   "outputs": [],
   "source": [
    "baseline_runtime = \"\"\n",
    "\n",
    "for runtime in open('output/baseline/bambu-log').readlines():\n",
    "    if \"Average execution\" in runtime:\n",
    "        baseline_runtime = [int(s) for s in runtime.split() if s.isdigit()][0]\n",
    "\n",
    "print(\"Average execution in cycles: {}\".format(baseline_runtime))"
   ]
  },
  {
   "cell_type": "markdown",
   "metadata": {},
   "source": [
    "Visualize [Intermediate Dot File](output/baseline/HLS_output/dot/main_kernel/HLS_STGraph.dot)"
   ]
  },
  {
   "cell_type": "markdown",
   "metadata": {},
   "source": [
    "### Optimized kernel"
   ]
  },
  {
   "cell_type": "code",
   "execution_count": null,
   "metadata": {},
   "outputs": [],
   "source": [
    "! scripts/run-bambu.sh optimized\n",
    "# Takes aprox 30 seconds to execute"
   ]
  },
  {
   "cell_type": "code",
   "execution_count": null,
   "metadata": {},
   "outputs": [],
   "source": [
    "optimized_runtime = \"\"\n",
    "\n",
    "for runtime in open('output/optimized/bambu-log').readlines():\n",
    "    if \"Average execution\" in runtime:\n",
    "        optimized_runtime = [int(s) for s in runtime.split() if s.isdigit()][0]\n",
    "\n",
    "print(\"Average execution in cycles: {}\".format(optimized_runtime))\n"
   ]
  },
  {
   "cell_type": "markdown",
   "metadata": {},
   "source": [
    "Visualize [Intermediate Dot File](output/optimized/HLS_output/dot/main_kernel/HLS_STGraph.dot)"
   ]
  },
  {
   "cell_type": "markdown",
   "metadata": {},
   "source": [
    "## Comparison of runtime results\n",
    "\n",
    "* Display runtime\n",
    "* Display [verilog output file](output/optimized/main_kernel.v)"
   ]
  },
  {
   "cell_type": "code",
   "execution_count": null,
   "metadata": {},
   "outputs": [],
   "source": [
    "print(\"Average execution in cycles of Baseline kernel:  {}\".format(baseline_runtime))\n",
    "print(\"Average execution in cycles of Optimized kernel: {}\".format(optimized_runtime))\n",
    "print(\"Speedup: {:.1f}\".format(float(baseline_runtime/optimized_runtime)))"
   ]
  },
  {
   "cell_type": "markdown",
   "metadata": {},
   "source": [
    "# Commandline interface\n",
    "\n",
    "To visualize all possible paramenters for our optimization passes run:\n",
    "\n",
    "- `soda-opt -h`"
   ]
  },
  {
   "cell_type": "markdown",
   "metadata": {},
   "source": [
    "```\n",
    "      --soda-opt-pipeline-for-bambu                    \n",
    "        --affine-tile-size=<ulong>                     \n",
    "        --bitwidth-of-index-type=<uint>                \n",
    "        --max-alloc-size-in-bytes=<uint>               \n",
    "        --max-rank-of-allocated-memref=<uint>          \n",
    "        --number-of-full-unrolls=<uint>                \n",
    "        --permutation-map=<uint>                       \n",
    "        --use-bare-ptr-memref-call-conv                \n",
    "        --no-alloca-promotion                          \n",
    "        --no-buffer-trick                              \n",
    "        --no-scalar-replacement                        \n",
    "  \n",
    "```"
   ]
  },
  {
   "cell_type": "code",
   "execution_count": null,
   "metadata": {},
   "outputs": [],
   "source": [
    "%%bash\n",
    "(\n",
    "  docker run -u $(id -u) -v $(pwd):/working_dir --rm agostini01/soda \\\n",
    "  soda-opt -h 2>&1 | cat > output/helpfile\n",
    ")"
   ]
  },
  {
   "cell_type": "markdown",
   "metadata": {},
   "source": [
    "Open [help file](output/helpfile)"
   ]
  },
  {
   "cell_type": "markdown",
   "metadata": {},
   "source": [
    "### Modifying the number of unrolls"
   ]
  },
  {
   "cell_type": "code",
   "execution_count": null,
   "metadata": {},
   "outputs": [],
   "source": [
    "%%bash\n",
    "(\n",
    "  CURRENT_DIR=\"$( cd \"$( dirname \"${BASH_SOURCE[0]}\" )\" &> /dev/null && pwd )\"\n",
    "  source $CURRENT_DIR/scripts/check_docker.sh\n",
    "\n",
    "  $DOCKER_RUN \\\n",
    "  soda-opt \\\n",
    "    -soda-outline-bambu-code \\\n",
    "    -soda-extract-arguments-to-c-testbench=using-bare-ptr \\\n",
    "    -soda-generate-bambu-accelcode \\\n",
    "    -soda-opt-pipeline-for-bambu=\"use-bare-ptr-memref-call-conv number-of-full-unrolls=1\" \\\n",
    "    -mlir-print-ir-after-all \\\n",
    "    output/01searched-edited.mlir \\\n",
    "    -o output/04optimized.mlir \\\n",
    "    2>&1 | cat > output/05intermediate-optimized.mlir\n",
    "\n",
    "  CURRENT_DIR=\"$( cd \"$( dirname \"${BASH_SOURCE[0]}\" )\" &> /dev/null && pwd )\"\n",
    "  source $CURRENT_DIR/scripts/check_docker.sh\n",
    "  $DOCKER_RUN \\\n",
    "  mlir-translate \\\n",
    "    --mlir-to-llvmir \\\n",
    "    output/04optimized.mlir \\\n",
    "    -o output/05optimized.ll\n",
    ")"
   ]
  },
  {
   "cell_type": "markdown",
   "metadata": {},
   "source": [
    "Visualize [intermediate file](output/05intermediate-optimized.mlir)"
   ]
  },
  {
   "cell_type": "code",
   "execution_count": null,
   "metadata": {},
   "outputs": [],
   "source": [
    "! scripts/run-bambu.sh optimized"
   ]
  },
  {
   "cell_type": "markdown",
   "metadata": {},
   "source": [
    "### Default optimization pipeline (again)\n",
    "\n",
    "Three full unrolls of the inner loop yield better latency for this kernel."
   ]
  },
  {
   "cell_type": "code",
   "execution_count": null,
   "metadata": {},
   "outputs": [],
   "source": [
    "%%bash\n",
    "(\n",
    "  CURRENT_DIR=\"$( cd \"$( dirname \"${BASH_SOURCE[0]}\" )\" &> /dev/null && pwd )\"\n",
    "  source $CURRENT_DIR/scripts/check_docker.sh\n",
    "\n",
    "  $DOCKER_RUN \\\n",
    "  soda-opt \\\n",
    "    -soda-outline-bambu-code \\\n",
    "    -soda-extract-arguments-to-c-testbench=using-bare-ptr \\\n",
    "    -soda-generate-bambu-accelcode \\\n",
    "    -soda-opt-pipeline-for-bambu=\"use-bare-ptr-memref-call-conv\" \\\n",
    "    -mlir-print-ir-after-all \\\n",
    "    output/01searched-edited.mlir \\\n",
    "    -o output/04optimized.mlir \\\n",
    "    2>&1 | cat > output/05intermediate-optimized.mlir\n",
    "\n",
    "  CURRENT_DIR=\"$( cd \"$( dirname \"${BASH_SOURCE[0]}\" )\" &> /dev/null && pwd )\"\n",
    "  source $CURRENT_DIR/scripts/check_docker.sh\n",
    "  $DOCKER_RUN \\\n",
    "  mlir-translate \\\n",
    "    --mlir-to-llvmir \\\n",
    "    output/04optimized.mlir \\\n",
    "    -o output/05optimized.ll\n",
    ")"
   ]
  },
  {
   "cell_type": "code",
   "execution_count": null,
   "metadata": {},
   "outputs": [],
   "source": [
    "! scripts/run-bambu.sh optimized"
   ]
  },
  {
   "cell_type": "markdown",
   "metadata": {},
   "source": [
    "![tutorial-flow](imgs/flow-diagram.png)"
   ]
  },
  {
   "cell_type": "markdown",
   "metadata": {},
   "source": [
    "# OpenRoad Flow: Automatic ASIC place and route (Step 6)"
   ]
  },
  {
   "cell_type": "markdown",
   "metadata": {},
   "source": [
    "### Baseline kernel"
   ]
  },
  {
   "cell_type": "code",
   "execution_count": null,
   "metadata": {},
   "outputs": [],
   "source": [
    "! scripts/run-openroad.sh baseline\n",
    "\n",
    "# Approx. 5min to execute"
   ]
  },
  {
   "cell_type": "markdown",
   "metadata": {},
   "source": [
    "### Optimized kernel"
   ]
  },
  {
   "cell_type": "code",
   "execution_count": null,
   "metadata": {},
   "outputs": [],
   "source": [
    "! scripts/run-openroad.sh optimized\n",
    "\n",
    "# Approx. 42min to execute"
   ]
  },
  {
   "cell_type": "markdown",
   "metadata": {},
   "source": [
    "## Comparison of synthesis results\n",
    "\n",
    "* Display area\n",
    "* Display power\n",
    "* Calculate and display FLOPS/W"
   ]
  },
  {
   "cell_type": "code",
   "execution_count": null,
   "metadata": {},
   "outputs": [],
   "source": [
    "log_path_suffix='HLS_output/Synthesis/bash_flow/openroad/logs/nangate45/main_kernel/base/6_report.log'\n",
    "rpt_path_suffix='HLS_output/Synthesis/bash_flow/openroad/reports/nangate45/main_kernel/base/6_finish.rpt'\n",
    "gds_path_suffix='HLS_output/Synthesis/bash_flow/openroad/results/nangate45/main_kernel/base/6_final.gds'"
   ]
  },
  {
   "cell_type": "markdown",
   "metadata": {},
   "source": [
    "### Baseline"
   ]
  },
  {
   "cell_type": "code",
   "execution_count": null,
   "metadata": {},
   "outputs": [],
   "source": [
    "baseline_log='output/baseline/'+log_path_suffix\n",
    "baseline_rpt='output/baseline/'+rpt_path_suffix"
   ]
  },
  {
   "cell_type": "code",
   "execution_count": null,
   "metadata": {},
   "outputs": [],
   "source": [
    "power_multiplier = 1 # Open road reports power in W\n",
    "total_power = ()\n",
    "\n",
    "log_file=baseline_rpt\n",
    "\n",
    "for l in open(log_file, 'r').readlines():\n",
    "  if (\"Total\" in l and \"Group\" not in l):\n",
    "    total_power=float(l.split()[4])*power_multiplier\n",
    "\n",
    "log_file=baseline_log\n",
    "\n",
    "for l in open(log_file, 'r').readlines():\n",
    "  if (\"Design area\" in l):\n",
    "    available_area=float(l.split()[2])\n",
    "    utilization_area=float(l.split()[4].strip('%'))\n",
    "  \n",
    "\n",
    "print('Baseline accelerator:')\n",
    "print('  total power consumption: {}W'.format(total_power))\n",
    "print('  available chip area: {} um^2'.format(available_area))\n",
    "print('  utilized chip area: {}%'.format(utilization_area))\n",
    "\n",
    "\n",
    "baseline_total_power=total_power\n",
    "baseline_available_area=available_area\n",
    "baseline_utilization_area=utilization_area\n"
   ]
  },
  {
   "cell_type": "markdown",
   "metadata": {},
   "source": [
    "### Optimized for runtime"
   ]
  },
  {
   "cell_type": "code",
   "execution_count": null,
   "metadata": {},
   "outputs": [],
   "source": [
    "optimized_log='output/optimized/'+log_path_suffix\n",
    "optimized_rpt='output/optimized/'+rpt_path_suffix"
   ]
  },
  {
   "cell_type": "code",
   "execution_count": null,
   "metadata": {},
   "outputs": [],
   "source": [
    "power_multiplier = 1 # Open road reports power in W\n",
    "total_power = ()\n",
    "\n",
    "log_file=optimized_rpt\n",
    "\n",
    "for l in open(log_file, 'r').readlines():\n",
    "  if (\"Total\" in l and \"Group\" not in l):\n",
    "    total_power=float(l.split()[4])*power_multiplier\n",
    "\n",
    "log_file=optimized_log\n",
    "\n",
    "for l in open(log_file, 'r').readlines():\n",
    "  if (\"Design area\" in l):\n",
    "    available_area=float(l.split()[2])\n",
    "    utilization_area=float(l.split()[4].strip('%'))\n",
    "  \n",
    "\n",
    "print('Optimized accelerator:')\n",
    "print('  total power consumption: {}W'.format(total_power))\n",
    "print('  available chip area: {} um^2'.format(available_area))\n",
    "print('  utilized chip area: {}%'.format(utilization_area))\n",
    "\n",
    "\n",
    "optimized_total_power=total_power\n",
    "optimized_available_area=available_area\n",
    "optimized_utilization_area=utilization_area\n"
   ]
  },
  {
   "cell_type": "markdown",
   "metadata": {},
   "source": [
    "## Post place and route comparison\n",
    "\n",
    "Considering a matrix multiply kernel has approximatelly 2xNxMxK arithmetic operations\n",
    "\n",
    "And our selected kernel has the following sizes: \n",
    "\n",
    "```mlir\n",
    "linalg.batch_matmul ins(%A, %B : memref<1x4x8xf32>, memref<1x8x4xf32>) \n",
    "                    outs(%C : memref<1x4x4xf32>)\n",
    "\n",
    "```\n",
    "M=4, K=8, N=4\n",
    "\n",
    "We have approximatelly **256** floating point aritihmetic operations"
   ]
  },
  {
   "cell_type": "code",
   "execution_count": null,
   "metadata": {},
   "outputs": [],
   "source": [
    "giga_multiplier=1e9\n",
    "flop_count = 256 # arithmetic float point operations\n",
    "target_frequency = 200e+6 # 200MHz\n",
    "\n",
    "optimized_runtime_in_s = optimized_runtime/target_frequency\n",
    "baseline_runtime_in_s = baseline_runtime/target_frequency \n",
    "\n",
    "baseline_flops_per_watt= flop_count/baseline_runtime_in_s/baseline_total_power\n",
    "optimized_flops_per_watt= flop_count/optimized_runtime_in_s/optimized_total_power\n",
    "\n",
    "\n",
    "print(\"Execution in cycles of Baseline kernel:  {}\".format(baseline_runtime))\n",
    "print(\"Execution in cycles of Optimized kernel:   {}\".format(optimized_runtime))\n",
    "\n",
    "print(\"Speedup: \\t\\t\\t{:.2f}x\".format(baseline_runtime/optimized_runtime))\n",
    "print(\"Area utilization overhead: \\t {:.2f}x\".format(optimized_utilization_area/baseline_utilization_area))\n",
    "print(\"Area overhead: \\t\\t\\t {:.2f}x\".format(optimized_available_area/baseline_available_area))\n",
    "print(\"Power overhead: \\t\\t {:.2f}x\".format(optimized_total_power/baseline_total_power))\n",
    "\n",
    "print(\"Baseline  \\t\\t\\t {:.2f} GFLOPS/W \".format(baseline_flops_per_watt/giga_multiplier))\n",
    "print(\"Optimized \\t\\t\\t{:.2f} GFLOPS/W\".format(optimized_flops_per_watt/giga_multiplier))\n"
   ]
  },
  {
   "cell_type": "markdown",
   "metadata": {},
   "source": [
    "## Generated GDSII files\n",
    "\n",
    "Output files can be found here:\n",
    "\n",
    "* output/baseline/HLS_output/Synthesis/bash_flow/openroad/results/nangate45/main_kernel/base/6_final.gds\n",
    "* output/optimized/HLS_output/Synthesis/bash_flow/openroad/results/nangate45/main_kernel/base/6_final.gds"
   ]
  },
  {
   "cell_type": "markdown",
   "metadata": {},
   "source": [
    "### Baseline and Optimized Side by Side\n",
    "\n",
    "![Side-By-Size](imgs/gds-side-by-side.png)"
   ]
  },
  {
   "cell_type": "markdown",
   "metadata": {},
   "source": [
    "# Thank you!"
   ]
  }
 ],
 "metadata": {
  "kernelspec": {
   "display_name": "Python 3",
   "language": "python",
   "name": "python3"
  },
  "language_info": {
   "codemirror_mode": {
    "name": "ipython",
    "version": 3
   },
   "file_extension": ".py",
   "mimetype": "text/x-python",
   "name": "python",
   "nbconvert_exporter": "python",
   "pygments_lexer": "ipython3",
   "version": "3.11.12"
  },
  "orig_nbformat": 4
 },
 "nbformat": 4,
 "nbformat_minor": 2
}
